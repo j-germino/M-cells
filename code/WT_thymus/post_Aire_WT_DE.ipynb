{
 "cells": [
  {
   "cell_type": "markdown",
   "id": "0c105ae7-60c5-44f4-abfe-e7b767cc108e",
   "metadata": {},
   "source": [
    "# Setup"
   ]
  },
  {
   "cell_type": "code",
   "execution_count": 1,
   "id": "52feb119-292b-4b5e-8307-8809ad9164fb",
   "metadata": {},
   "outputs": [
    {
     "name": "stderr",
     "output_type": "stream",
     "text": [
      "Global seed set to 0\n"
     ]
    }
   ],
   "source": [
    "import scanpy as sc\n",
    "import scvi\n",
    "import warnings\n",
    "import seaborn as sns\n",
    "import matplotlib.pyplot as plt\n",
    "import os\n",
    "import pandas as pd"
   ]
  },
  {
   "cell_type": "code",
   "execution_count": 2,
   "id": "d2bcde46-bc10-4990-9eae-7319ff4cc323",
   "metadata": {},
   "outputs": [],
   "source": [
    "sc.set_figure_params(figsize=(4,4),  dpi=150, dpi_save=300, facecolor=\"white\", frameon=False)\n",
    "sns.set_context(\"paper\")\n",
    "plt.rcParams[\"axes.grid\"] = False\n",
    "warnings.simplefilter(action='ignore', category=FutureWarning)"
   ]
  },
  {
   "cell_type": "code",
   "execution_count": 3,
   "id": "2833f01c-96ed-4e11-b4d5-ddb396e587f8",
   "metadata": {},
   "outputs": [
    {
     "data": {
      "text/plain": [
       "'/notebook/Joe/M-cells/code'"
      ]
     },
     "execution_count": 3,
     "metadata": {},
     "output_type": "execute_result"
    }
   ],
   "source": [
    "os.getcwd()"
   ]
  },
  {
   "cell_type": "markdown",
   "id": "afa8c899-f0e5-4310-b164-bba929579ac1",
   "metadata": {},
   "source": [
    "# import data"
   ]
  },
  {
   "cell_type": "code",
   "execution_count": 4,
   "id": "b5aa4707-ec6e-42cc-a9e7-66e3afe72e00",
   "metadata": {},
   "outputs": [
    {
     "name": "stdout",
     "output_type": "stream",
     "text": [
      "\u001b[34mINFO    \u001b[0m File \u001b[35m/notebook/External/Archive/Joe/processed_data/M_cell/scVI_models/combined_WT_30\u001b[0m\n",
      "         \u001b[35m08_genes/\u001b[0m\u001b[95mmodel.pt\u001b[0m already downloaded                                                \n"
     ]
    }
   ],
   "source": [
    "adata = sc.read(\"/notebook/External/Archive/Joe/processed_data/M_cell/h5ad_files/post_Aire_WT_3008_genes.h5ad\")\n",
    "model = scvi.model.SCVI.load(\"/notebook/External/Archive/Joe/processed_data/M_cell/scVI_models/combined_WT_3008_genes\", adata=adata, use_gpu=True)"
   ]
  },
  {
   "cell_type": "code",
   "execution_count": 6,
   "id": "d357a289-d7a5-4db0-94dc-cd61fb0ba5ad",
   "metadata": {},
   "outputs": [
    {
     "name": "stdout",
     "output_type": "stream",
     "text": [
      "DE...: 100%|██████████| 13/13 [00:08<00:00,  1.50it/s]\n"
     ]
    }
   ],
   "source": [
    "de_df = model.differential_expression(\n",
    "    groupby=\"post_Aire_leiden_scVI\",\n",
    ")"
   ]
  },
  {
   "cell_type": "code",
   "execution_count": 8,
   "id": "27211f5e-0e34-4847-8da4-c82262de0f21",
   "metadata": {},
   "outputs": [
    {
     "name": "stdout",
     "output_type": "stream",
     "text": [
      "Saving 0 DE genes\n",
      "Saving 1 DE genes\n",
      "Saving 2 DE genes\n",
      "Saving 3 DE genes\n",
      "Saving 4 DE genes\n",
      "Saving 5 DE genes\n",
      "Saving 6 DE genes\n",
      "Saving 7 DE genes\n",
      "Saving 8 DE genes\n",
      "Saving 9 DE genes\n",
      "Saving 10 DE genes\n",
      "Saving 11 DE genes\n",
      "Saving 12 DE genes\n"
     ]
    }
   ],
   "source": [
    "markers = {}\n",
    "cats = adata.obs.post_Aire_leiden_scVI.cat.categories\n",
    "for i, c in enumerate(cats):\n",
    "    print(f\"Saving {c} DE genes\")\n",
    "    cid = f\"{c} vs Rest\"\n",
    "    cell_type_df = de_df.loc[de_df.comparison == cid]\n",
    "    cell_type_df = cell_type_df[cell_type_df.lfc_mean > 0]\n",
    "    cell_type_df = cell_type_df[cell_type_df[\"bayes_factor\"] > 2.5]\n",
    "    cell_type_df = cell_type_df[cell_type_df[\"non_zeros_proportion1\"] > 0.1]\n",
    "    markers[c] = cell_type_df\n",
    "    cell_type_df.to_csv(f\"/notebook/Joe/M-cells/analysis/DE_post_aire_cell_types/{c}_marker_genes.csv\")"
   ]
  }
 ],
 "metadata": {
  "kernelspec": {
   "display_name": "Python 3 (ipykernel)",
   "language": "python",
   "name": "python3"
  },
  "language_info": {
   "codemirror_mode": {
    "name": "ipython",
    "version": 3
   },
   "file_extension": ".py",
   "mimetype": "text/x-python",
   "name": "python",
   "nbconvert_exporter": "python",
   "pygments_lexer": "ipython3",
   "version": "3.8.12"
  }
 },
 "nbformat": 4,
 "nbformat_minor": 5
}
