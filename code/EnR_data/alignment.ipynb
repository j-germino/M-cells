{
 "cells": [
  {
   "cell_type": "markdown",
   "id": "bb3a7353-bfdf-434c-a571-8fb486b646e3",
   "metadata": {},
   "source": [
    "# WT"
   ]
  },
  {
   "cell_type": "code",
   "execution_count": null,
   "id": "d51363da-0240-4ee8-a992-f6914c2729a2",
   "metadata": {},
   "outputs": [],
   "source": [
    "nohup kb count \\\n",
    "/mnt/iacchus/joe/raw_data/Thymus/Fezf2_EnR/fastqs/WT/andersonm-Fezf2_WT_3GEX_S11_L001_R1_001.fastq.gz \\\n",
    "/mnt/iacchus/joe/raw_data/Thymus/Fezf2_EnR/fastqs/WT/andersonm-Fezf2_WT_3GEX_S11_L001_R2_001.fastq.gz \\\n",
    "/mnt/iacchus/joe/raw_data/Thymus/Fezf2_EnR/fastqs/WT/andersonm-Fezf2_WT_3GEX_S11_L002_R1_001.fastq.gz \\\n",
    "/mnt/iacchus/joe/raw_data/Thymus/Fezf2_EnR/fastqs/WT/andersonm-Fezf2_WT_3GEX_S11_L002_R2_001.fastq.gz \\\n",
    "/mnt/iacchus/joe/raw_data/Thymus/Fezf2_EnR/fastqs/WT/andersonm-Fezf2_WT_3GEX_S11_L003_R1_001.fastq.gz \\\n",
    "/mnt/iacchus/joe/raw_data/Thymus/Fezf2_EnR/fastqs/WT/andersonm-Fezf2_WT_3GEX_S11_L003_R2_001.fastq.gz \\\n",
    "/mnt/iacchus/joe/raw_data/Thymus/Fezf2_EnR/fastqs/WT/andersonm-Fezf2_WT_3GEX_S11_L004_R1_001.fastq.gz \\\n",
    "/mnt/iacchus/joe/raw_data/Thymus/Fezf2_EnR/fastqs/WT/andersonm-Fezf2_WT_3GEX_S11_L004_R2_001.fastq.gz \\\n",
    "-o /mnt/iacchus/joe/raw_data/Thymus/Fezf2_EnR/kallisto/WT \\\n",
    "--h5ad \\\n",
    "-i /mnt/iacchus/joe/reference_genomes/kallisto/mus_musculus/transcriptome.idx \\\n",
    "-g /mnt/iacchus/joe/reference_genomes/kallisto/mus_musculus/transcripts_to_genes.txt \\\n",
    "-x 10XV3 > Fezf2_EnR_WT.log &"
   ]
  },
  {
   "cell_type": "markdown",
   "id": "05b27ffa-a711-4213-951c-92f57de0ec8a",
   "metadata": {},
   "source": [
    "# Fezf2 KO"
   ]
  },
  {
   "cell_type": "code",
   "execution_count": null,
   "id": "17688e77-68bc-48b0-92e8-df6e1a2c68cb",
   "metadata": {},
   "outputs": [],
   "source": [
    "nohup kb count \\\n",
    "/mnt/iacchus/joe/raw_data/Thymus/Fezf2_EnR/fastqs/Fezf2_KO/andersonm-Fezf2_KO_3GEX_S12_L001_R1_001.fastq.gz \\\n",
    "/mnt/iacchus/joe/raw_data/Thymus/Fezf2_EnR/fastqs/Fezf2_KO/andersonm-Fezf2_KO_3GEX_S12_L001_R2_001.fastq.gz \\\n",
    "/mnt/iacchus/joe/raw_data/Thymus/Fezf2_EnR/fastqs/Fezf2_KO/andersonm-Fezf2_KO_3GEX_S12_L002_R1_001.fastq.gz \\\n",
    "/mnt/iacchus/joe/raw_data/Thymus/Fezf2_EnR/fastqs/Fezf2_KO/andersonm-Fezf2_KO_3GEX_S12_L002_R2_001.fastq.gz \\\n",
    "/mnt/iacchus/joe/raw_data/Thymus/Fezf2_EnR/fastqs/Fezf2_KO/andersonm-Fezf2_KO_3GEX_S12_L003_R1_001.fastq.gz \\\n",
    "/mnt/iacchus/joe/raw_data/Thymus/Fezf2_EnR/fastqs/Fezf2_KO/andersonm-Fezf2_KO_3GEX_S12_L003_R2_001.fastq.gz \\\n",
    "/mnt/iacchus/joe/raw_data/Thymus/Fezf2_EnR/fastqs/Fezf2_KO/andersonm-Fezf2_KO_3GEX_S12_L004_R1_001.fastq.gz \\\n",
    "/mnt/iacchus/joe/raw_data/Thymus/Fezf2_EnR/fastqs/Fezf2_KO/andersonm-Fezf2_KO_3GEX_S12_L004_R2_001.fastq.gz \\\n",
    "-o /mnt/iacchus/joe/raw_data/Thymus/Fezf2_EnR/kallisto/Fezf2_KO \\\n",
    "--h5ad \\\n",
    "-i /mnt/iacchus/joe/reference_genomes/kallisto/mus_musculus/transcriptome.idx \\\n",
    "-g /mnt/iacchus/joe/reference_genomes/kallisto/mus_musculus/transcripts_to_genes.txt \\\n",
    "-x 10XV3 > Fezf2_KO.log &"
   ]
  },
  {
   "cell_type": "markdown",
   "id": "3001aad1-4e26-477c-b869-f562a6563e69",
   "metadata": {},
   "source": [
    "# Fezf2 KO EnR"
   ]
  },
  {
   "cell_type": "code",
   "execution_count": null,
   "id": "8ae723fb-e588-44fa-8cab-c777c5b96921",
   "metadata": {},
   "outputs": [],
   "source": [
    "nohup kb count \\\n",
    "/mnt/iacchus/joe/raw_data/Thymus/Fezf2_EnR/fastqs/Fezf2_KO_EnR/andersonm-Fezf2_KO_EnR_3GEX_S13_L001_R1_001.fastq.gz \\\n",
    "/mnt/iacchus/joe/raw_data/Thymus/Fezf2_EnR/fastqs/Fezf2_KO_EnR/andersonm-Fezf2_KO_EnR_3GEX_S13_L001_R2_001.fastq.gz \\\n",
    "/mnt/iacchus/joe/raw_data/Thymus/Fezf2_EnR/fastqs/Fezf2_KO_EnR/andersonm-Fezf2_KO_EnR_3GEX_S13_L002_R1_001.fastq.gz \\\n",
    "/mnt/iacchus/joe/raw_data/Thymus/Fezf2_EnR/fastqs/Fezf2_KO_EnR/andersonm-Fezf2_KO_EnR_3GEX_S13_L002_R2_001.fastq.gz \\\n",
    "/mnt/iacchus/joe/raw_data/Thymus/Fezf2_EnR/fastqs/Fezf2_KO_EnR/andersonm-Fezf2_KO_EnR_3GEX_S13_L003_R1_001.fastq.gz \\\n",
    "/mnt/iacchus/joe/raw_data/Thymus/Fezf2_EnR/fastqs/Fezf2_KO_EnR/andersonm-Fezf2_KO_EnR_3GEX_S13_L003_R2_001.fastq.gz \\\n",
    "/mnt/iacchus/joe/raw_data/Thymus/Fezf2_EnR/fastqs/Fezf2_KO_EnR/andersonm-Fezf2_KO_EnR_3GEX_S13_L004_R1_001.fastq.gz \\\n",
    "/mnt/iacchus/joe/raw_data/Thymus/Fezf2_EnR/fastqs/Fezf2_KO_EnR/andersonm-Fezf2_KO_EnR_3GEX_S13_L004_R2_001.fastq.gz \\\n",
    "-o /mnt/iacchus/joe/raw_data/Thymus/Fezf2_EnR/kallisto/Fezf2_KO_EnR \\\n",
    "--h5ad \\\n",
    "-i /mnt/iacchus/joe/reference_genomes/kallisto/mus_musculus/transcriptome.idx \\\n",
    "-g /mnt/iacchus/joe/reference_genomes/kallisto/mus_musculus/transcripts_to_genes.txt \\\n",
    "-x 10XV3 > Fezf2_KO_EnR.log &"
   ]
  }
 ],
 "metadata": {
  "kernelspec": {
   "display_name": "fezf2-thymus",
   "language": "python",
   "name": "fezf2-thymus"
  },
  "language_info": {
   "codemirror_mode": {
    "name": "ipython",
    "version": 3
   },
   "file_extension": ".py",
   "mimetype": "text/x-python",
   "name": "python",
   "nbconvert_exporter": "python",
   "pygments_lexer": "ipython3",
   "version": "3.10.13"
  }
 },
 "nbformat": 4,
 "nbformat_minor": 5
}
