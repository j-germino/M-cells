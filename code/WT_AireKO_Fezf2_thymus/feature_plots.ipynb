{
 "cells": [
  {
   "cell_type": "markdown",
   "id": "3c1db165-f945-44ec-a4e6-d602e2144eb4",
   "metadata": {},
   "source": [
    "# Setup"
   ]
  },
  {
   "cell_type": "code",
   "execution_count": null,
   "id": "cbcfa815-67f2-45ca-84a3-6f1a329b0335",
   "metadata": {},
   "outputs": [],
   "source": [
    "warnings.simplefilter(action='ignore', category=FutureWarning)\n",
    "sns.set_context(\"paper\")\n",
    "plt.rcParams[\"axes.grid\"] = False\n",
    "sc.set_figure_params(figsize=(4,4), dpi=80, dpi_save=300, facecolor=\"white\", frameon=False)"
   ]
  },
  {
   "cell_type": "code",
   "execution_count": null,
   "id": "cbeb043a-a647-4da8-a26b-c6c5503b2eab",
   "metadata": {},
   "outputs": [],
   "source": [
    "os.getcwd()"
   ]
  },
  {
   "cell_type": "markdown",
   "id": "a4e9a245-fdf0-458f-9714-d7cdffa4062f",
   "metadata": {},
   "source": [
    "## Set data paths"
   ]
  },
  {
   "cell_type": "markdown",
   "id": "1056ddc9-e841-44fc-ab5e-b874040c46e5",
   "metadata": {},
   "source": [
    "### demeter"
   ]
  },
  {
   "cell_type": "code",
   "execution_count": null,
   "id": "2c3950f3-97df-4f60-bc6b-036b59315de1",
   "metadata": {},
   "outputs": [],
   "source": [
    "rawDataPath = \"/mnt/iacchus/joe/raw_data/\"\n",
    "processedDataPath = \"/mnt/iacchus/joe/processed_data/\""
   ]
  },
  {
   "cell_type": "markdown",
   "id": "4fa1f16b-bc79-4ee2-a747-9925af0e9919",
   "metadata": {},
   "source": [
    "### gardner-lab-computer"
   ]
  },
  {
   "cell_type": "code",
   "execution_count": null,
   "id": "43804bf2-349e-405c-8502-88a12ed35eef",
   "metadata": {},
   "outputs": [],
   "source": [
    "# rawDataPath = \"/mnt/e/Archive/Joe/raw_data/\"\n",
    "# processedDataPath = \"/mnt/e/Archive/Joe/processed_data/\""
   ]
  },
  {
   "cell_type": "markdown",
   "id": "de755848-27e4-4e2b-940c-d7095e5902fa",
   "metadata": {},
   "source": [
    "## Import data"
   ]
  },
  {
   "cell_type": "code",
   "execution_count": null,
   "id": "4f96993b-7d5d-4a5d-9177-afe9c2c08576",
   "metadata": {},
   "outputs": [],
   "source": [
    "adata = sc.read(f\"{processedDataPath}/M_cell/h5ad_files/combined_WT_fezf2KO_aireKO_all_genes.h5ad\")"
   ]
  },
  {
   "cell_type": "markdown",
   "id": "7b6a31fa-634e-44cb-9dc8-77ab82563e30",
   "metadata": {},
   "source": [
    "## UMAP gene list helper method"
   ]
  },
  {
   "cell_type": "code",
   "execution_count": null,
   "id": "a8d226e4-06b2-449a-a217-28895e6823a5",
   "metadata": {
    "jupyter": {
     "source_hidden": true
    },
    "tags": []
   },
   "outputs": [],
   "source": [
    "def plot_gene_list(adata, gene_list, layer, obs_key=None, obs_list=None, *arg, **kwarg):\n",
    "    vmin = []\n",
    "    vmax = []\n",
    "    for gene in gene_list:\n",
    "        if obs_key is None:\n",
    "            if scipy.sparse.issparse(adata.layers[layer]):\n",
    "                data = np.asarray(adata[:, gene].layers[layer].todense())\n",
    "            else:\n",
    "                data = adata[:, gene].layers[layer]\n",
    "        else:\n",
    "            if scipy.sparse.issparse(adata.layers[layer]):\n",
    "                data = np.asarray(adata[adata.obs[obs_key] == obs_list[0], gene].layers[layer].todense())\n",
    "            else:\n",
    "                data = adata[adata.obs[obs_key] == obs_list[0], gene].layers[layer]\n",
    "        vmin.append(np.quantile(data, 0.01))\n",
    "        vmax.append(np.quantile(data, 0.99))\n",
    "    if obs_key is None:\n",
    "        sc.pl.umap(\n",
    "            adata,\n",
    "            color=gene_list,\n",
    "            layer=layer,\n",
    "            vmin=vmin,\n",
    "            vmax=vmax,\n",
    "            *arg, **kwarg\n",
    "        )\n",
    "    else:\n",
    "        for obs in obs_list:\n",
    "            sc.pl.umap(\n",
    "                adata[adata.obs[obs_key] == obs],\n",
    "                color=gene_list,\n",
    "                layer=layer,\n",
    "                vmin=vmin,\n",
    "                vmax=vmax,\n",
    "                *arg, **kwarg\n",
    "            )"
   ]
  },
  {
   "cell_type": "code",
   "execution_count": null,
   "id": "4af70122-c951-4e04-b800-8c547fc6caf6",
   "metadata": {},
   "outputs": [],
   "source": []
  }
 ],
 "metadata": {
  "kernelspec": {
   "display_name": "single-cell-analysis",
   "language": "python",
   "name": "single-cell-analysis"
  },
  "language_info": {
   "codemirror_mode": {
    "name": "ipython",
    "version": 3
   },
   "file_extension": ".py",
   "mimetype": "text/x-python",
   "name": "python",
   "nbconvert_exporter": "python",
   "pygments_lexer": "ipython3",
   "version": "3.10.6"
  }
 },
 "nbformat": 4,
 "nbformat_minor": 5
}
