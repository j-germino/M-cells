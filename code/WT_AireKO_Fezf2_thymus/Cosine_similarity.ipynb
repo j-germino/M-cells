{
 "cells": [
  {
   "cell_type": "markdown",
   "id": "9ac89d69-54bd-4263-8d65-73a21341bdd2",
   "metadata": {},
   "source": [
    "# Setup"
   ]
  },
  {
   "cell_type": "code",
   "execution_count": 1,
   "id": "0ac3847d-d5f4-4334-b423-d7dec6b7f69b",
   "metadata": {},
   "outputs": [],
   "source": [
    "%%capture\n",
    "import scanpy as sc\n",
    "import matplotlib.pyplot as plt\n",
    "import warnings\n",
    "import os\n",
    "import scvi\n",
    "import pandas as pd\n",
    "import anndata as ad\n",
    "import seaborn as sns\n",
    "import numpy as np\n",
    "from sklearn.metrics.pairwise import cosine_similarity\n",
    "from sklearn.preprocessing import StandardScaler\n",
    "from matplotlib.colors import LinearSegmentedColormap"
   ]
  },
  {
   "cell_type": "code",
   "execution_count": 2,
   "id": "44cbe8a9-ee59-44c2-a769-62fcc0fdf032",
   "metadata": {},
   "outputs": [],
   "source": [
    "sc.set_figure_params(figsize=(4,4),  dpi=80, dpi_save=300, facecolor=\"white\", frameon=False)\n",
    "sns.set_context(\"paper\")\n",
    "plt.rcParams[\"axes.grid\"] = False\n",
    "warnings.simplefilter(action='ignore', category=FutureWarning)"
   ]
  },
  {
   "cell_type": "code",
   "execution_count": 3,
   "id": "de9432c0-7af5-4377-af1a-3850c747f504",
   "metadata": {},
   "outputs": [
    {
     "data": {
      "text/plain": [
       "'/home/joe/Repositories/M-cells/code/WT_AireKO_Fezf2_thymus'"
      ]
     },
     "execution_count": 3,
     "metadata": {},
     "output_type": "execute_result"
    }
   ],
   "source": [
    "os.getcwd()"
   ]
  },
  {
   "cell_type": "markdown",
   "id": "c03bcd58-bf3c-4c7a-bacc-73d78b4b8ea7",
   "metadata": {},
   "source": [
    "## Setup data paths"
   ]
  },
  {
   "cell_type": "markdown",
   "id": "37048c4e-6f04-43a3-be7a-ce1c54dcb919",
   "metadata": {},
   "source": [
    "### demeter"
   ]
  },
  {
   "cell_type": "code",
   "execution_count": 4,
   "id": "68e64434-ff21-4d55-9a8e-4ea2f00c98a9",
   "metadata": {},
   "outputs": [],
   "source": [
    "rawDataPath = \"/mnt/iacchus/joe/raw_data/\"\n",
    "processedDataPath = \"/mnt/iacchus/joe/processed_data/\""
   ]
  },
  {
   "cell_type": "markdown",
   "id": "3bfa12b3-c4fa-4803-95c7-1a512e3449b2",
   "metadata": {},
   "source": [
    "### gardner-lab-computer"
   ]
  },
  {
   "cell_type": "code",
   "execution_count": 5,
   "id": "228a0d49-0a6d-48d1-a761-b2aaf1176f97",
   "metadata": {},
   "outputs": [],
   "source": [
    "# rawDataPath = \"/mnt/e/Archive/Joe/raw_data/\"\n",
    "# processedDataPath = \"/mnt/e/Archive/Joe/processed_data/\""
   ]
  },
  {
   "cell_type": "markdown",
   "id": "f5327d43-efa5-464b-9946-630dc9bd9ca0",
   "metadata": {},
   "source": [
    "## Import data"
   ]
  },
  {
   "cell_type": "code",
   "execution_count": 6,
   "id": "b9f434c2-acf8-473a-b0a4-822d8577605c",
   "metadata": {},
   "outputs": [],
   "source": [
    "adata = sc.read(f\"{processedDataPath}/M_cell/h5ad_files/combined_WT_fezf2KO_aireKO_all_genes.h5ad\")\n",
    "signatures = pd.read_csv(\"../../analysis/cell_type_signatures/merged_epithelium_fine_skin_signatures.csv\", index_col=0, header=0)"
   ]
  },
  {
   "cell_type": "markdown",
   "id": "4d737239-5abd-4ac3-9897-c70e0fabb1dc",
   "metadata": {},
   "source": [
    "## Methods"
   ]
  },
  {
   "cell_type": "markdown",
   "id": "7a78f30d-a933-4769-a3a1-ea79aba70c6f",
   "metadata": {},
   "source": [
    "### create signature matrix"
   ]
  },
  {
   "cell_type": "code",
   "execution_count": 7,
   "id": "64f29dbc-2cbb-4b7c-95ed-7a3c33dab08d",
   "metadata": {
    "jupyter": {
     "source_hidden": true
    },
    "tags": []
   },
   "outputs": [],
   "source": [
    "def create_signature_matrix(adata, obs_key, save_path):\n",
    "    signatures = pd.DataFrame(index=adata.var_names)\n",
    "    for cell_type in adata.obs[obs_key].unique():\n",
    "        signatures[cell_type] = list(pd.DataFrame(adata[adata.obs[obs_key] == cell_type].X.todense()).mean(axis=0))\n",
    "    signatures.to_csv(save_path)\n",
    "    return signatures"
   ]
  },
  {
   "cell_type": "markdown",
   "id": "a58101e1-9c28-4f68-a368-55acf056a258",
   "metadata": {},
   "source": [
    "### cosine similarity"
   ]
  },
  {
   "cell_type": "code",
   "execution_count": 8,
   "id": "ac0aac66-dbc6-4986-9771-54ea7d0ca949",
   "metadata": {
    "jupyter": {
     "source_hidden": true
    },
    "tags": []
   },
   "outputs": [],
   "source": [
    "# adata must have log normalized counts in its raw attribute\n",
    "# signatures must be a gene (row) by cell type (column) dataframe with average log normalized counts\n",
    "def cell_type_cosine_similarity(adata, signatures, scale=True, label=\"cosine_similarity\"):\n",
    "    # Raw attribute contains the log-normalized counts\n",
    "    cell_data = pd.DataFrame(adata.raw.X.toarray(), columns=adata.raw.var_names, index=adata.obs.index).T\n",
    "    cell_data = cell_data[cell_data.index.isin(adata.var_names)]\n",
    "    cell_data = cell_data / cell_data.sum(axis=0) # Normalize per cell expression to sum to 1\n",
    "    all_df = cell_data.join(signatures, how=\"inner\") # Join with gene x cell type signature matrix so that only shared genes are kept\n",
    "    all_df = all_df / all_df.sum(axis=0) # Normalize per cell expression to sum to 1\n",
    "    print(f\"Number of genes used for cosine similarity calculations: {len(all_df)}\")\n",
    "    # Calculate cosine similarity of single cells to each cell type\n",
    "    sim = cosine_similarity(\n",
    "        all_df[all_df.columns[:cell_data.shape[1]]].values.T, # Single-cell expression data\n",
    "        all_df[all_df.columns[cell_data.shape[1]:]].values.T # Cell type gene signature expression data\n",
    "    )\n",
    "\n",
    "    # Create dataframe with per cell similarity scores for each cell type\n",
    "    similarity = pd.DataFrame(\n",
    "        sim, \n",
    "        columns=all_df.columns[cell_data.shape[1]:],\n",
    "        index=all_df.columns[:cell_data.shape[1]]\n",
    "    )\n",
    "    if scale:\n",
    "        # Scale similarity scores by cell\n",
    "        scaler = StandardScaler()\n",
    "        minmax_scale = scaler.fit(similarity.T)\n",
    "        x_minmax = minmax_scale.transform(similarity.T).T\n",
    "        scale_by_row = pd.DataFrame(x_minmax)\n",
    "        \n",
    "        # Add cosine similarity scores to adata obs\n",
    "        scale_by_row.index = similarity.index\n",
    "        scale_by_row.columns = similarity.columns + \"_\" + label\n",
    "        adata.obs = adata.obs.join(scale_by_row)\n",
    "    else:\n",
    "        similarity.columns = similarity.columns + \"_\" + label\n",
    "        adata.obs = adata.obs.join(similarity)\n",
    "    \n",
    "    return adata"
   ]
  },
  {
   "cell_type": "markdown",
   "id": "414d9c6a-365a-4806-bd4d-00d39d537bc9",
   "metadata": {},
   "source": [
    "# Cosine similarity"
   ]
  },
  {
   "cell_type": "markdown",
   "id": "f25f1351-df7b-442a-b4db-21dd5c23fa02",
   "metadata": {},
   "source": [
    "## epithelial signatures"
   ]
  },
  {
   "cell_type": "code",
   "execution_count": 9,
   "id": "ce2330b1-f30e-49eb-860e-531b4170db2c",
   "metadata": {},
   "outputs": [
    {
     "name": "stdout",
     "output_type": "stream",
     "text": [
      "Number of genes used for cosine similarity calculations: 13185\n"
     ]
    }
   ],
   "source": [
    "adata = cell_type_cosine_similarity(adata, signatures, label=\"epithelial_similarity\")"
   ]
  },
  {
   "cell_type": "code",
   "execution_count": 10,
   "id": "0a1cd159-4760-41f4-a8b2-6f910ca4ecc9",
   "metadata": {
    "collapsed": true,
    "jupyter": {
     "outputs_hidden": true
    },
    "tags": []
   },
   "outputs": [
    {
     "data": {
      "text/plain": [
       "Index(['IFE.C_skin.fine_epithelial_similarity',\n",
       "       'IFE.B_skin.fine_epithelial_similarity',\n",
       "       'IFE.SB1_skin.fine_epithelial_similarity',\n",
       "       'IFE.SB2_skin.fine_epithelial_similarity',\n",
       "       'uHF.B_skin.fine_epithelial_similarity',\n",
       "       'uHF.SB_skin.fine_epithelial_similarity',\n",
       "       'SG_skin.fine_epithelial_similarity',\n",
       "       'OB_skin.fine_epithelial_similarity',\n",
       "       'HG_skin.fine_epithelial_similarity',\n",
       "       'ORS.SB_skin.fine_epithelial_similarity',\n",
       "       'mCP_skin.fine_epithelial_similarity',\n",
       "       'uCP_skin.fine_epithelial_similarity',\n",
       "       'ORS.B1_skin.fine_epithelial_similarity',\n",
       "       'ORS.B2_skin.fine_epithelial_similarity',\n",
       "       'LPC_skin.fine_epithelial_similarity',\n",
       "       'GL4_skin.fine_epithelial_similarity',\n",
       "       'GL3_skin.fine_epithelial_similarity',\n",
       "       'GL2_skin.fine_epithelial_similarity',\n",
       "       'GL1_skin.fine_epithelial_similarity',\n",
       "       'MED1_skin.fine_epithelial_similarity',\n",
       "       'MED2_skin.fine_epithelial_similarity',\n",
       "       'MED3_skin.fine_epithelial_similarity',\n",
       "       'CX1_skin.fine_epithelial_similarity',\n",
       "       'CX2_skin.fine_epithelial_similarity',\n",
       "       'CX3_skin.fine_epithelial_similarity',\n",
       "       'CX4_skin.fine_epithelial_similarity',\n",
       "       'CX5_skin.fine_epithelial_similarity',\n",
       "       'IRS1_skin.fine_epithelial_similarity',\n",
       "       'ANA.-.8_skin.fine_epithelial_similarity',\n",
       "       'FIB4_skin.fine_epithelial_similarity',\n",
       "       'FIB3_skin.fine_epithelial_similarity',\n",
       "       'FIB2_skin.fine_epithelial_similarity',\n",
       "       'FIB1_skin.fine_epithelial_similarity',\n",
       "       'DS1_skin.fine_epithelial_similarity',\n",
       "       'DS2_skin.fine_epithelial_similarity',\n",
       "       'tDP_skin.fine_epithelial_similarity',\n",
       "       'TC_skin.fine_epithelial_similarity',\n",
       "       'MC1_skin.fine_epithelial_similarity',\n",
       "       'MC2_skin.fine_epithelial_similarity',\n",
       "       'MC3_skin.fine_epithelial_similarity',\n",
       "       'DC_skin.fine_epithelial_similarity',\n",
       "       'LC_skin.fine_epithelial_similarity',\n",
       "       'EC1_skin.fine_epithelial_similarity',\n",
       "       'EC2_skin.fine_epithelial_similarity',\n",
       "       'vSM_skin.fine_epithelial_similarity',\n",
       "       'LV_skin.fine_epithelial_similarity',\n",
       "       'MEL1_skin.fine_epithelial_similarity',\n",
       "       'MEL2_skin.fine_epithelial_similarity',\n",
       "       'SC_skin.fine_epithelial_similarity',\n",
       "       'SM_skin.fine_epithelial_similarity',\n",
       "       'Tuft_intestine_epithelial_similarity',\n",
       "       'Goblet_intestine_epithelial_similarity',\n",
       "       'Endocrine_intestine_epithelial_similarity',\n",
       "       'Stem_intestine_epithelial_similarity',\n",
       "       'TA.G1_intestine_epithelial_similarity',\n",
       "       'TA.G2_intestine_epithelial_similarity',\n",
       "       'Paneth_intestine_epithelial_similarity',\n",
       "       'Enterocyte.Mature.Proximal_intestine_epithelial_similarity',\n",
       "       'Enterocyte.Mature.Distal_intestine_epithelial_similarity',\n",
       "       'M.cell_intestine.ex.vivo_epithelial_similarity',\n",
       "       'Tuft_intestine.ex.vivo_epithelial_similarity',\n",
       "       'Goblet_intestine.ex.vivo_epithelial_similarity',\n",
       "       'Endocrine_intestine.ex.vivo_epithelial_similarity',\n",
       "       'TA_intestine.ex.vivo_epithelial_similarity',\n",
       "       'Enterocyte.1_intestine.ex.vivo_epithelial_similarity',\n",
       "       'Enterocyte.2_intestine.ex.vivo_epithelial_similarity',\n",
       "       'Stem_intestine.ex.vivo_epithelial_similarity',\n",
       "       'Ductal/Acinar_pancreatic_epithelial_similarity',\n",
       "       'Acinar/Ductal_pancreatic_epithelial_similarity',\n",
       "       'Ductal_pancreatic_epithelial_similarity',\n",
       "       'Endocrine-Ngn3_pancreatic_epithelial_similarity',\n",
       "       'Endocrine_pancreatic_epithelial_similarity',\n",
       "       'Podocyte-like_pancreatic_epithelial_similarity',\n",
       "       'Mesenchymal_pancreatic_epithelial_similarity',\n",
       "       'Acinar_pancreatic_epithelial_similarity',\n",
       "       'Proliferating_pancreatic_epithelial_similarity',\n",
       "       'Club_respiratory_epithelial_similarity',\n",
       "       'Basal_respiratory_epithelial_similarity',\n",
       "       'Ciliated_respiratory_epithelial_similarity',\n",
       "       'Tuft_respiratory_epithelial_similarity',\n",
       "       'Neuroendocrine_respiratory_epithelial_similarity',\n",
       "       'Goblet_respiratory_epithelial_similarity',\n",
       "       'Ionocyte_respiratory_epithelial_similarity',\n",
       "       'Smgc+_salivary_gland_epithelial_similarity',\n",
       "       'Intercalated.duct_salivary_gland_epithelial_similarity',\n",
       "       'Acinar_salivary_gland_epithelial_similarity',\n",
       "       'Bpifa2+_salivary_gland_epithelial_similarity',\n",
       "       'Basal.duct_salivary_gland_epithelial_similarity',\n",
       "       'Striated.duct_salivary_gland_epithelial_similarity',\n",
       "       'Myoepithelial_salivary_gland_epithelial_similarity',\n",
       "       'GCT_salivary_gland_epithelial_similarity',\n",
       "       'Ascl3+.duct_salivary_gland_epithelial_similarity'],\n",
       "      dtype='object')"
      ]
     },
     "execution_count": 10,
     "metadata": {},
     "output_type": "execute_result"
    }
   ],
   "source": [
    "adata.obs.columns[adata.obs.columns.str.contains(\"epithelial_similarity\")]"
   ]
  },
  {
   "cell_type": "code",
   "execution_count": null,
   "id": "d4e499ff-0d0a-47f3-b412-c06196fd2ea6",
   "metadata": {},
   "outputs": [],
   "source": []
  }
 ],
 "metadata": {
  "kernelspec": {
   "display_name": "single-cell-analysis",
   "language": "python",
   "name": "single-cell-analysis"
  },
  "language_info": {
   "codemirror_mode": {
    "name": "ipython",
    "version": 3
   },
   "file_extension": ".py",
   "mimetype": "text/x-python",
   "name": "python",
   "nbconvert_exporter": "python",
   "pygments_lexer": "ipython3",
   "version": "3.10.6"
  }
 },
 "nbformat": 4,
 "nbformat_minor": 5
}
