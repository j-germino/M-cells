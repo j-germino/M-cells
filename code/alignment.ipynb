{
 "cells": [
  {
   "cell_type": "markdown",
   "id": "bb3a7353-bfdf-434c-a571-8fb486b646e3",
   "metadata": {},
   "source": [
    "# Aire KO 1"
   ]
  },
  {
   "cell_type": "code",
   "execution_count": null,
   "id": "d51363da-0240-4ee8-a992-f6914c2729a2",
   "metadata": {},
   "outputs": [],
   "source": [
    "nohup kb count \\\n",
    "/mnt/iacchus/joe/raw_data/Thymus/Yi/Yi_RNA_fastqs/WT_KO_fastqs/Aire_KO/B6_Aire_KO_S23_L001_R1_001.fastq.gz \\\n",
    "/mnt/iacchus/joe/raw_data/Thymus/Yi/Yi_RNA_fastqs/WT_KO_fastqs/Aire_KO/B6_Aire_KO_S23_L001_R2_001.fastq.gz \\\n",
    "/mnt/iacchus/joe/raw_data/Thymus/Yi/Yi_RNA_fastqs/WT_KO_fastqs/Aire_KO/B6_Aire_KO_S23_L002_R1_001.fastq.gz \\\n",
    "/mnt/iacchus/joe/raw_data/Thymus/Yi/Yi_RNA_fastqs/WT_KO_fastqs/Aire_KO/B6_Aire_KO_S23_L002_R2_001.fastq.gz \\\n",
    "/mnt/iacchus/joe/raw_data/Thymus/Yi/Yi_RNA_fastqs/WT_KO_fastqs/Aire_KO/B6_Aire_KO_S23_L003_R1_001.fastq.gz \\\n",
    "/mnt/iacchus/joe/raw_data/Thymus/Yi/Yi_RNA_fastqs/WT_KO_fastqs/Aire_KO/B6_Aire_KO_S23_L003_R2_001.fastq.gz \\\n",
    "/mnt/iacchus/joe/raw_data/Thymus/Yi/Yi_RNA_fastqs/WT_KO_fastqs/Aire_KO/B6_Aire_KO_S23_L004_R1_001.fastq.gz \\\n",
    "/mnt/iacchus/joe/raw_data/Thymus/Yi/Yi_RNA_fastqs/WT_KO_fastqs/Aire_KO/B6_Aire_KO_S23_L004_R2_001.fastq.gz \\\n",
    "-o /mnt/iacchus/joe/raw_data/Thymus/Yi/kallisto/Aire_KO-1 \\\n",
    "--h5ad \\\n",
    "-i /mnt/iacchus/joe/reference_genomes/kallisto/mus_musculus/transcriptome.idx \\\n",
    "-g /mnt/iacchus/joe/reference_genomes/kallisto/mus_musculus/transcripts_to_genes.txt \\\n",
    "-x 10XV3 > Aire_KO_1_align.log &"
   ]
  },
  {
   "cell_type": "markdown",
   "id": "05b27ffa-a711-4213-951c-92f57de0ec8a",
   "metadata": {},
   "source": [
    "# Aire WT 1"
   ]
  },
  {
   "cell_type": "code",
   "execution_count": null,
   "id": "17688e77-68bc-48b0-92e8-df6e1a2c68cb",
   "metadata": {},
   "outputs": [],
   "source": [
    "nohup kb count \\\n",
    "/mnt/iacchus/joe/raw_data/Thymus/Yi/Yi_RNA_fastqs/WT_KO_fastqs/Aire_WT/B6_Aire_WT_S22_L001_R1_001.fastq.gz \\\n",
    "/mnt/iacchus/joe/raw_data/Thymus/Yi/Yi_RNA_fastqs/WT_KO_fastqs/Aire_WT/B6_Aire_WT_S22_L001_R2_001.fastq.gz \\\n",
    "/mnt/iacchus/joe/raw_data/Thymus/Yi/Yi_RNA_fastqs/WT_KO_fastqs/Aire_WT/B6_Aire_WT_S22_L002_R1_001.fastq.gz \\\n",
    "/mnt/iacchus/joe/raw_data/Thymus/Yi/Yi_RNA_fastqs/WT_KO_fastqs/Aire_WT/B6_Aire_WT_S22_L002_R2_001.fastq.gz \\\n",
    "/mnt/iacchus/joe/raw_data/Thymus/Yi/Yi_RNA_fastqs/WT_KO_fastqs/Aire_WT/B6_Aire_WT_S22_L003_R1_001.fastq.gz \\\n",
    "/mnt/iacchus/joe/raw_data/Thymus/Yi/Yi_RNA_fastqs/WT_KO_fastqs/Aire_WT/B6_Aire_WT_S22_L003_R2_001.fastq.gz \\\n",
    "/mnt/iacchus/joe/raw_data/Thymus/Yi/Yi_RNA_fastqs/WT_KO_fastqs/Aire_WT/B6_Aire_WT_S22_L004_R1_001.fastq.gz \\\n",
    "/mnt/iacchus/joe/raw_data/Thymus/Yi/Yi_RNA_fastqs/WT_KO_fastqs/Aire_WT/B6_Aire_WT_S22_L004_R2_001.fastq.gz \\\n",
    "-o /mnt/iacchus/joe/raw_data/Thymus/Yi/kallisto/Aire_WT-1 \\\n",
    "--h5ad \\\n",
    "-i /mnt/iacchus/joe/reference_genomes/kallisto/mus_musculus/transcriptome.idx \\\n",
    "-g /mnt/iacchus/joe/reference_genomes/kallisto/mus_musculus/transcripts_to_genes.txt \\\n",
    "-x 10XV3 > Aire_WT_1_align.log &"
   ]
  },
  {
   "cell_type": "markdown",
   "id": "3001aad1-4e26-477c-b869-f562a6563e69",
   "metadata": {},
   "source": [
    "# Aire KO 2"
   ]
  },
  {
   "cell_type": "code",
   "execution_count": null,
   "id": "8ae723fb-e588-44fa-8cab-c777c5b96921",
   "metadata": {},
   "outputs": [],
   "source": [
    "nohup kb count \\\n",
    "/mnt/iacchus/joe/raw_data/Thymus/Aire_KO/fastqs/Aire_KO-2/andersonm-02-Aire_KO2_S2_L001_R1_001.fastq.gz \\\n",
    "/mnt/iacchus/joe/raw_data/Thymus/Aire_KO/fastqs/Aire_KO-2/andersonm-02-Aire_KO2_S2_L001_R2_001.fastq.gz \\\n",
    "/mnt/iacchus/joe/raw_data/Thymus/Aire_KO/fastqs/Aire_KO-2/andersonm-02-Aire_KO2_S2_L002_R1_001.fastq.gz \\\n",
    "/mnt/iacchus/joe/raw_data/Thymus/Aire_KO/fastqs/Aire_KO-2/andersonm-02-Aire_KO2_S2_L002_R2_001.fastq.gz \\\n",
    "-o /mnt/iacchus/joe/raw_data/Thymus/Aire_KO/kallisto/Aire_KO-2 \\\n",
    "--h5ad \\\n",
    "-i /mnt/iacchus/joe/reference_genomes/kallisto/mus_musculus/transcriptome.idx \\\n",
    "-g /mnt/iacchus/joe/reference_genomes/kallisto/mus_musculus/transcripts_to_genes.txt \\\n",
    "-x 10XV3 > Aire_KO_2_align.log &"
   ]
  },
  {
   "cell_type": "markdown",
   "id": "db318165-8181-4af6-938f-4b670c58f0ad",
   "metadata": {},
   "source": [
    "# Aire WT 2"
   ]
  },
  {
   "cell_type": "code",
   "execution_count": null,
   "id": "cfe7ea9f-454a-4c9d-a9bc-bbedc1489541",
   "metadata": {},
   "outputs": [],
   "source": [
    "nohup kb count \\\n",
    "/mnt/iacchus/joe/raw_data/Thymus/Aire_KO/fastqs/Aire_WT-2/andersonm-01-Aire_WT2_S1_L001_R1_001.fastq.gz \\\n",
    "/mnt/iacchus/joe/raw_data/Thymus/Aire_KO/fastqs/Aire_WT-2/andersonm-01-Aire_WT2_S1_L001_R2_001.fastq.gz \\\n",
    "/mnt/iacchus/joe/raw_data/Thymus/Aire_KO/fastqs/Aire_WT-2/andersonm-01-Aire_WT2_S1_L002_R1_001.fastq.gz \\\n",
    "/mnt/iacchus/joe/raw_data/Thymus/Aire_KO/fastqs/Aire_WT-2/andersonm-01-Aire_WT2_S1_L002_R2_001.fastq.gz \\\n",
    "-o /mnt/iacchus/joe/raw_data/Thymus/Aire_KO/kallisto/Aire_WT-2 \\\n",
    "--h5ad \\\n",
    "-i /mnt/iacchus/joe/reference_genomes/kallisto/mus_musculus/transcriptome.idx \\\n",
    "-g /mnt/iacchus/joe/reference_genomes/kallisto/mus_musculus/transcripts_to_genes.txt \\\n",
    "-x 10XV3 > Aire_WT_2_align.log &"
   ]
  },
  {
   "cell_type": "markdown",
   "id": "accbb958-8e1e-48e1-aafc-48425d364abe",
   "metadata": {},
   "source": [
    "# Fezf2 KO 1"
   ]
  },
  {
   "cell_type": "code",
   "execution_count": null,
   "id": "dacec136-7810-41db-8035-57463fa14292",
   "metadata": {},
   "outputs": [],
   "source": [
    "nohup kb count \\\n",
    "/mnt/iacchus/joe/raw_data/Thymus/Fezf2_KO/fastqs/andersonm-Fezf_KO/Fezf_MT_S1_L001_R1_001.fastq.gz \\\n",
    "/mnt/iacchus/joe/raw_data/Thymus/Fezf2_KO/fastqs/andersonm-Fezf_KO/Fezf_MT_S1_L001_R2_001.fastq.gz \\\n",
    "/mnt/iacchus/joe/raw_data/Thymus/Fezf2_KO/fastqs/andersonm-Fezf_KO/Fezf_MT_S1_L002_R1_001.fastq.gz \\\n",
    "/mnt/iacchus/joe/raw_data/Thymus/Fezf2_KO/fastqs/andersonm-Fezf_KO/Fezf_MT_S1_L002_R2_001.fastq.gz \\\n",
    "/mnt/iacchus/joe/raw_data/Thymus/Fezf2_KO/fastqs/andersonm-Fezf_KO/Fezf_MT_S1_L003_R1_001.fastq.gz \\\n",
    "/mnt/iacchus/joe/raw_data/Thymus/Fezf2_KO/fastqs/andersonm-Fezf_KO/Fezf_MT_S1_L003_R2_001.fastq.gz \\\n",
    "/mnt/iacchus/joe/raw_data/Thymus/Fezf2_KO/fastqs/andersonm-Fezf_KO/Fezf_MT_S1_L004_R1_001.fastq.gz \\\n",
    "/mnt/iacchus/joe/raw_data/Thymus/Fezf2_KO/fastqs/andersonm-Fezf_KO/Fezf_MT_S1_L004_R2_001.fastq.gz \\\n",
    "-o /mnt/iacchus/joe/raw_data/Thymus/Fezf2_KO/kallisto/Fezf2_KO-1 \\\n",
    "--h5ad \\\n",
    "-i /mnt/iacchus/joe/reference_genomes/kallisto/mus_musculus/transcriptome.idx \\\n",
    "-g /mnt/iacchus/joe/reference_genomes/kallisto/mus_musculus/transcripts_to_genes.txt \\\n",
    "-x 10XV3 > Fezf2_KO_1_align.log &"
   ]
  },
  {
   "cell_type": "markdown",
   "id": "05645b91-759d-4471-b2cc-e951702d4398",
   "metadata": {},
   "source": [
    "# Fezf2 WT 1"
   ]
  },
  {
   "cell_type": "code",
   "execution_count": null,
   "id": "4f1bc117-8002-4686-8978-b46416cae147",
   "metadata": {},
   "outputs": [],
   "source": [
    "nohup kb count \\\n",
    "/mnt/iacchus/joe/raw_data/Thymus/Fezf2_KO/fastqs/andersonm-Fezf_WT/Fezf_WT_S2_L001_R1_001.fastq.gz \\\n",
    "/mnt/iacchus/joe/raw_data/Thymus/Fezf2_KO/fastqs/andersonm-Fezf_WT/Fezf_WT_S2_L001_R2_001.fastq.gz \\\n",
    "/mnt/iacchus/joe/raw_data/Thymus/Fezf2_KO/fastqs/andersonm-Fezf_WT/Fezf_WT_S2_L002_R1_001.fastq.gz \\\n",
    "/mnt/iacchus/joe/raw_data/Thymus/Fezf2_KO/fastqs/andersonm-Fezf_WT/Fezf_WT_S2_L002_R2_001.fastq.gz \\\n",
    "/mnt/iacchus/joe/raw_data/Thymus/Fezf2_KO/fastqs/andersonm-Fezf_WT/Fezf_WT_S2_L003_R1_001.fastq.gz \\\n",
    "/mnt/iacchus/joe/raw_data/Thymus/Fezf2_KO/fastqs/andersonm-Fezf_WT/Fezf_WT_S2_L003_R2_001.fastq.gz \\\n",
    "/mnt/iacchus/joe/raw_data/Thymus/Fezf2_KO/fastqs/andersonm-Fezf_WT/Fezf_WT_S2_L004_R1_001.fastq.gz \\\n",
    "/mnt/iacchus/joe/raw_data/Thymus/Fezf2_KO/fastqs/andersonm-Fezf_WT/Fezf_WT_S2_L004_R2_001.fastq.gz \\\n",
    "-o /mnt/iacchus/joe/raw_data/Thymus/Fezf2_KO/kallisto/Fezf2_WT-1 \\\n",
    "--h5ad \\\n",
    "-i /mnt/iacchus/joe/reference_genomes/kallisto/mus_musculus/transcriptome.idx \\\n",
    "-g /mnt/iacchus/joe/reference_genomes/kallisto/mus_musculus/transcripts_to_genes.txt \\\n",
    "-x 10XV3 > Fezf2_WT_1_align.log &"
   ]
  },
  {
   "cell_type": "markdown",
   "id": "e2a0221d-0e75-4ace-b3e2-6fbafe2a52ea",
   "metadata": {},
   "source": [
    "# Fezf2 KO 2"
   ]
  },
  {
   "cell_type": "code",
   "execution_count": null,
   "id": "90babeb2-cd00-4a24-a11d-a7af37349ae6",
   "metadata": {},
   "outputs": [],
   "source": [
    "nohup kb count \\\n",
    "/mnt/iacchus/joe/raw_data/Thymus/Fezf2_KO/fastqs/Fezf2_cKO2/andersonm-Fezf2_cKO2_S14_L001_R1_001.fastq.gz \\\n",
    "/mnt/iacchus/joe/raw_data/Thymus/Fezf2_KO/fastqs/Fezf2_cKO2/andersonm-Fezf2_cKO2_S14_L001_R2_001.fastq.gz \\\n",
    "/mnt/iacchus/joe/raw_data/Thymus/Fezf2_KO/fastqs/Fezf2_cKO2/andersonm-Fezf2_cKO2_S14_L002_R1_001.fastq.gz \\\n",
    "/mnt/iacchus/joe/raw_data/Thymus/Fezf2_KO/fastqs/Fezf2_cKO2/andersonm-Fezf2_cKO2_S14_L002_R2_001.fastq.gz \\\n",
    "-o /mnt/iacchus/joe/raw_data/Thymus/Fezf2_KO/kallisto/Fezf2_KO-2 \\\n",
    "--h5ad \\\n",
    "-i /mnt/iacchus/joe/reference_genomes/kallisto/mus_musculus/transcriptome.idx \\\n",
    "-g /mnt/iacchus/joe/reference_genomes/kallisto/mus_musculus/transcripts_to_genes.txt \\\n",
    "-x 10XV3 > Fezf2_KO_2_align.log &"
   ]
  },
  {
   "cell_type": "markdown",
   "id": "576d0cc8-09f8-4f83-85fd-c82dccff28b2",
   "metadata": {},
   "source": [
    "# Fezf2 WT 2"
   ]
  },
  {
   "cell_type": "code",
   "execution_count": null,
   "id": "76e0b23a-77bd-4466-9a98-f1644b3affcb",
   "metadata": {},
   "outputs": [],
   "source": [
    "nohup kb count \\\n",
    "/mnt/iacchus/joe/raw_data/Thymus/Fezf2_KO/fastqs/Fezf2_WT2/andersonm-Fezf2_WT2_S13_L001_R1_001.fastq.gz \\\n",
    "/mnt/iacchus/joe/raw_data/Thymus/Fezf2_KO/fastqs/Fezf2_WT2/andersonm-Fezf2_WT2_S13_L001_R2_001.fastq.gz \\\n",
    "/mnt/iacchus/joe/raw_data/Thymus/Fezf2_KO/fastqs/Fezf2_WT2/andersonm-Fezf2_WT2_S13_L002_R1_001.fastq.gz \\\n",
    "/mnt/iacchus/joe/raw_data/Thymus/Fezf2_KO/fastqs/Fezf2_WT2/andersonm-Fezf2_WT2_S13_L002_R2_001.fastq.gz \\\n",
    "-o /mnt/iacchus/joe/raw_data/Thymus/Fezf2_KO/kallisto/Fezf2_WT-2 \\\n",
    "--h5ad \\\n",
    "-i /mnt/iacchus/joe/reference_genomes/kallisto/mus_musculus/transcriptome.idx \\\n",
    "-g /mnt/iacchus/joe/reference_genomes/kallisto/mus_musculus/transcripts_to_genes.txt \\\n",
    "-x 10XV3 > Fezf2_WT_2_align.log &"
   ]
  }
 ],
 "metadata": {
  "kernelspec": {
   "display_name": "fezf2-thymus",
   "language": "python",
   "name": "fezf2-thymus"
  },
  "language_info": {
   "codemirror_mode": {
    "name": "ipython",
    "version": 3
   },
   "file_extension": ".py",
   "mimetype": "text/x-python",
   "name": "python",
   "nbconvert_exporter": "python",
   "pygments_lexer": "ipython3",
   "version": "3.10.13"
  }
 },
 "nbformat": 4,
 "nbformat_minor": 5
}
