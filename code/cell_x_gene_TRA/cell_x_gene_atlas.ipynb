{
 "cells": [
  {
   "cell_type": "code",
   "execution_count": null,
   "id": "b47ed777-e051-4130-9333-bba2f18a152b",
   "metadata": {},
   "outputs": [],
   "source": [
    "import cellxgene_census\n",
    "import scanpy as sc\n",
    "import scvi\n",
    "import os\n",
    "import shutil\n",
    "import numpy as np\n",
    "import pandas as pd\n",
    "import anndata as ad\n",
    "import scipy\n",
    "import seaborn as sns\n",
    "import matplotlib.pyplot as plt"
   ]
  },
  {
   "cell_type": "code",
   "execution_count": null,
   "id": "e9135f80-3aea-4417-8ec7-f2207b147148",
   "metadata": {},
   "outputs": [],
   "source": [
    "processedDataPath = \"/mnt/iacchus/joe/processed_data/cell_x_gene_atlas/\"\n",
    "rawDataPath = \"/mnt/iacchus/joe/raw_data/cell_x_gene_atlas/\""
   ]
  },
  {
   "cell_type": "markdown",
   "id": "ad10e318-3980-4338-a169-19b39d8c3ef4",
   "metadata": {},
   "source": [
    "# Data download"
   ]
  },
  {
   "cell_type": "code",
   "execution_count": null,
   "id": "e75df8f9-e1bc-4876-99dc-a48b63934d3c",
   "metadata": {},
   "outputs": [],
   "source": [
    "with cellxgene_census.open_soma(census_version=\"2023-07-25\") as census:   \n",
    "    # Reads SOMADataFrame as a slice\n",
    "    cell_metadata = census[\"census_data\"][\"mus_musculus\"].obs.read(\n",
    "        value_filter = \"disease == 'normal' and is_primary_data == False\",\n",
    "        column_names = [\"tissue_general\"]\n",
    "    )\n",
    "    \n",
    "    # Concatenates results to pyarrow.Table\n",
    "    cell_metadata = cell_metadata.concat().to_pandas()"
   ]
  },
  {
   "cell_type": "code",
   "execution_count": null,
   "id": "f8126ceb-e46b-4c55-8501-61f69574b223",
   "metadata": {
    "tags": []
   },
   "outputs": [],
   "source": [
    "for tissue in cell_metadata.tissue_general.unique():\n",
    "    with cellxgene_census.open_soma(census_version=\"2023-07-25\") as census:\n",
    "        print(f\"Getting tissue: {tissue}\")\n",
    "        adata = cellxgene_census.get_anndata(\n",
    "            census = census,\n",
    "            organism = \"Mus musculus\",\n",
    "            obs_value_filter = f\"disease == 'normal' and is_primary_data == False and tissue_general == '{tissue}'\",\n",
    "            column_names = {\"obs\": [\"assay\", \"cell_type\", \"tissue\", \"tissue_general\", \"dataset_id\"]},\n",
    "        )\n",
    "        adata.write(f\"{rawDataPath}{tissue}.h5ad\")\n",
    "        del adata"
   ]
  },
  {
   "cell_type": "code",
   "execution_count": null,
   "id": "66353893-c2c1-4d22-b2df-fac4896cc083",
   "metadata": {},
   "outputs": [],
   "source": [
    "files = os.listdir(rawDataPath)\n",
    "adatas = []\n",
    "for file in files:\n",
    "    if not file.startswith(\".\"):\n",
    "        adatas.append(sc.read(path + file))\n",
    "\n",
    "adata = ad.concat(adatas, index_unique=\"-\", keys=[i.split(\".\")[0] for i in files])\n",
    "adata.var = adatas[0].var\n",
    "del adatas"
   ]
  },
  {
   "cell_type": "code",
   "execution_count": null,
   "id": "75dc1b11-d196-4491-9167-ba6941ff7547",
   "metadata": {},
   "outputs": [],
   "source": [
    "adata.write(f\"{processedDataPath}data/cell_x_gene_atlas.h5ad\")"
   ]
  },
  {
   "cell_type": "markdown",
   "id": "bdcd43a5-fb65-41ef-b8cc-efdcfa2b717f",
   "metadata": {},
   "source": [
    "# Preprocessing"
   ]
  },
  {
   "cell_type": "code",
   "execution_count": null,
   "id": "9ec01704-8040-4d2f-b9e0-3a79f23729f1",
   "metadata": {},
   "outputs": [],
   "source": [
    "adata = sc.read(f\"{processedDataPath}data/cell_x_gene_atlas.h5ad\")"
   ]
  },
  {
   "cell_type": "code",
   "execution_count": null,
   "id": "23baf5b4-6709-4e6d-9bea-68e918284bae",
   "metadata": {},
   "outputs": [],
   "source": [
    "gene_info = sc.queries.biomart_annotations(\"mmusculus\", [\"ensembl_gene_id\", \"external_gene_name\", \"gene_biotype\"])\n",
    "gene_info.index = gene_info.ensembl_gene_id\n",
    "del gene_info[\"ensembl_gene_id\"]\n",
    "\n",
    "adata = adata[adata.obs.assay.str.startswith(\"10x\")].copy()\n",
    "adata.var.index = adata.var.feature_id\n",
    "adata.var = adata.var.join(gene_info)\n",
    "adata.var_names = adata.var.feature_name\n",
    "adata = adata[:, adata.var.gene_biotype == \"protein_coding\"].copy()\n",
    "sc.pp.filter_cells(adata, min_genes=500)\n",
    "sc.pp.filter_genes(adata, min_cells=20)\n",
    "adata.obs[\"batch\"] = adata.obs.dataset_id.astype(\"str\") + adata.obs.tissue.astype(\"str\")\n",
    "adata.layers[\"counts\"] = adata.X.copy()\n",
    "sc.pp.calculate_qc_metrics(adata, inplace=True, log1p=False, percent_top=None)"
   ]
  },
  {
   "cell_type": "code",
   "execution_count": null,
   "id": "6f34125f-676c-497c-98e0-3ef4269d001c",
   "metadata": {},
   "outputs": [],
   "source": [
    "adata.obs[\"batch\"] = adata.obs.dataset_id.astype(\"str\") + adata.obs.tissue.astype(\"str\")\n",
    "adata.layers[\"counts\"] = adata.X.copy()\n",
    "sc.pp.calculate_qc_metrics(adata, inplace=True, log1p=False, percent_top=None)"
   ]
  },
  {
   "cell_type": "code",
   "execution_count": null,
   "id": "6b1196ab-5912-40b3-b982-34e1cf18f8c6",
   "metadata": {},
   "outputs": [],
   "source": [
    "adata.write(f\"{processedDataPath}data/cell_x_gene_atlas.h5ad\")"
   ]
  },
  {
   "cell_type": "markdown",
   "id": "5985c0aa-f661-42c5-b67b-5641ab526445",
   "metadata": {},
   "source": [
    "# Model training"
   ]
  },
  {
   "cell_type": "code",
   "execution_count": null,
   "id": "df8e28e7-7cb9-4788-99e6-c9643fb96da8",
   "metadata": {},
   "outputs": [],
   "source": [
    "adata = sc.read(f\"{processedDataPath}data/cell_x_gene_atlas.h5ad\")"
   ]
  },
  {
   "cell_type": "code",
   "execution_count": null,
   "id": "aab78514-5f95-453a-8702-d54a5f756348",
   "metadata": {},
   "outputs": [],
   "source": [
    "# Setup scVI model using raw counts and batch info\n",
    "scvi.model.SCVI.setup_anndata(\n",
    "    adata,\n",
    "    layer=\"counts\",\n",
    "    batch_key=\"batch\",\n",
    ")\n",
    "model = scvi.model.SCVI(adata)\n",
    "\n",
    "# Train scVI model\n",
    "model.train()"
   ]
  },
  {
   "cell_type": "code",
   "execution_count": null,
   "id": "45799eba-d6c3-443a-a175-bc0fcc4eb5e4",
   "metadata": {},
   "outputs": [],
   "source": [
    "# Save data\n",
    "if os.path.isdir(f\"{processedDataPath}cell_x_gene_atlas_scVI_model\"):\n",
    "    shutil.rmtree(f\"{processedDataPath}cell_x_gene_atlas_scVI_model\")\n",
    "model.save(f\"{processedDataPath}cell_x_gene_atlas_scVI_model\")"
   ]
  },
  {
   "cell_type": "markdown",
   "id": "d6f71cf8-f957-4ccd-910b-3093d261a758",
   "metadata": {},
   "source": [
    "# Post processing"
   ]
  },
  {
   "cell_type": "code",
   "execution_count": null,
   "id": "da56237c-1007-46bd-a5e0-a1b7af43166c",
   "metadata": {},
   "outputs": [],
   "source": [
    "adata = sc.read(f\"{processedDataPath}data/cell_x_gene_atlas.h5ad\")\n",
    "model = scvi.model.SCVI.load(f\"{processedDataPath}cell_x_gene_atlas_scVI_model\", adata=adata)"
   ]
  },
  {
   "cell_type": "code",
   "execution_count": null,
   "id": "bfe77b36-196a-4176-8f36-d788d8ae212b",
   "metadata": {},
   "outputs": [],
   "source": [
    "# get scVI latent space and normalized expression\n",
    "adata.obsm[\"X_scVI\"] = model.get_latent_representation()\n",
    "sc.pp.neighbors(adata, use_rep=\"X_scVI\")\n",
    "sc.tl.tsne(adata, use_rep=\"X_scVI\")\n",
    "adata.layers[\"scVI_normalized\"] = model.get_normalized_expression(library_size=1e4)"
   ]
  },
  {
   "cell_type": "code",
   "execution_count": null,
   "id": "1e8a7361-68af-480d-9ab4-6502bab518db",
   "metadata": {},
   "outputs": [],
   "source": [
    "# Save data\n",
    "adata.write(f\"{processedDataPath}data/cell_x_gene_atlas.h5ad\")\n",
    "adata.obs.to_csv(f\"{processedDataPath}data/cell_x_gene_atlas_metadata.csv\")\n",
    "pd.DataFrame(adata.var_names).to_csv(f\"{processedDataPath}data/cell_x_gene_atlas_genes.csv\")\n",
    "np.save(f\"{processedDataPath}data/cell_x_gene_tsne.npy\", adata.obsm[\"X_tsne\"])"
   ]
  },
  {
   "cell_type": "code",
   "execution_count": null,
   "id": "7c375c88-94e5-4373-8f9a-0e392d1a0e6d",
   "metadata": {},
   "outputs": [],
   "source": [
    "# Filter on genes detected with at least 2 counts in at least 100 cells\n",
    "exprs = np.log1p(adata.layers[\"counts\"].todense())\n",
    "exprs = pd.DataFrame(exprs, columns=adata.var_names)\n",
    "num_cells_expressed = pd.DataFrame((exprs >= np.log1p(2)).sum())\n",
    "sns.displot(num_cells_expressed[0], log_scale=True, kde=True)\n",
    "plt.axvline(x=100, color=\"black\")\n",
    "plt.show()"
   ]
  },
  {
   "cell_type": "code",
   "execution_count": null,
   "id": "f00a0d6f-828b-434f-98b6-4164d6764057",
   "metadata": {},
   "outputs": [],
   "source": [
    "# Select genes to keep\n",
    "keep_genes = num_cells_expressed[num_cells_expressed[0] >= 100].index\n",
    "exprs = exprs[keep_genes]\n",
    "np.save(f\"{processedDataPath}expression/cell_x_gene_atlas_log1p_counts.npy\", exprs)\n",
    "keep_genes.to_csv(f\"{processedDataPath}expression/keep_genes.csv\")"
   ]
  },
  {
   "cell_type": "code",
   "execution_count": null,
   "id": "6c9e6624-212c-4999-9dac-c9ceecfd8339",
   "metadata": {},
   "outputs": [],
   "source": [
    "# Filter scVI normalized expression on same genes\n",
    "exprs = adata.layers[\"scVI_normalized\"]\n",
    "exprs = pd.DataFrame(exprs, columns=adata.var_names)\n",
    "exprs = exprs[keep_genes]\n",
    "\n",
    "np.save(f\"{processedDataPath}expression/cell_x_gene_atlas_expression.npy\", exprs)"
   ]
  },
  {
   "cell_type": "markdown",
   "id": "594e2f50-c41f-4f11-a616-b13062b777c3",
   "metadata": {},
   "source": [
    "# TRA entropy scores"
   ]
  },
  {
   "cell_type": "markdown",
   "id": "1360a225-3821-421c-a1b0-3af85599ecca",
   "metadata": {},
   "source": [
    "## scVI normalized"
   ]
  },
  {
   "cell_type": "markdown",
   "id": "a9d1f539-4dc6-49d3-841b-717887270e0e",
   "metadata": {},
   "source": [
    "### Tissue"
   ]
  },
  {
   "cell_type": "code",
   "execution_count": null,
   "id": "e4e8a6a6-2219-4165-9067-0e24a66c0d0d",
   "metadata": {},
   "outputs": [],
   "source": [
    "exprs = np.load(f\"{processedDataPath}expression/cell_x_gene_atlas_expression.npy\")\n",
    "genes = pd.read_csv(f\"{processedDataPath}expression/keep_genes.csv\")[\"feature_name\"]\n",
    "exprs = pd.DataFrame(exprs, columns=genes)\n",
    "metadata = pd.read_csv(f\"{processedDataPath}data/cell_x_gene_atlas_metadata.csv\")"
   ]
  },
  {
   "cell_type": "code",
   "execution_count": null,
   "id": "5bde9dba-27f6-48fd-a69c-cfba96a48852",
   "metadata": {},
   "outputs": [],
   "source": [
    "exprs[\"tissue\"] = metadata.tissue\n",
    "exprs = exprs.groupby(\"tissue\").mean()\n",
    "np.save(f\"{processedDataPath}expression/cell_x_gene_atlas_tissue_expression.npy\", exprs)\n",
    "pd.DataFrame(exprs.index).to_csv(f\"{processedDataPath}expression/tissue_index.csv\")\n",
    "exprs = exprs**2\n",
    "exprs = exprs/exprs.sum()\n",
    "# Calculate tissue entropy for each gene\n",
    "entropy = pd.DataFrame(\n",
    "    exprs.apply(\n",
    "        scipy.stats.entropy,\n",
    "        axis=0,\n",
    "        base=2\n",
    "    ),\n",
    "    columns=[\"entropy\"]\n",
    ")\n",
    "entropy[\"entropy_score\"] = 1-entropy.entropy/np.log2(exprs.shape[0])\n",
    "entropy.to_csv(f\"../../analysis/entropy/cell_x_gene_atlas_tissue_entropy.csv\")"
   ]
  },
  {
   "cell_type": "markdown",
   "id": "687328dc-39c2-4e0e-b9cd-de28fb02e6dd",
   "metadata": {},
   "source": [
    "### Tissue (general)"
   ]
  },
  {
   "cell_type": "code",
   "execution_count": null,
   "id": "6276f98b-fca2-4391-a364-fecb2a6e2b14",
   "metadata": {},
   "outputs": [],
   "source": [
    "exprs = np.load(f\"{processedDataPath}expression/cell_x_gene_atlas_expression.npy\")\n",
    "genes = pd.read_csv(f\"{processedDataPath}expression/keep_genes.csv\")[\"feature_name\"]\n",
    "exprs = pd.DataFrame(exprs, columns=genes)\n",
    "metadata = pd.read_csv(f\"{processedDataPath}data/cell_x_gene_atlas_metadata.csv\")"
   ]
  },
  {
   "cell_type": "code",
   "execution_count": null,
   "id": "5459c2a9-7bf7-4b2f-914c-8963cb13cfa2",
   "metadata": {},
   "outputs": [],
   "source": [
    "exprs[\"tissue_general\"] = metadata.tissue_general\n",
    "exprs = exprs.groupby(\"tissue_general\").mean()\n",
    "np.save(f\"{processedDataPath}expression/cell_x_gene_atlas_tissue_general_expression.npy\", exprs)\n",
    "pd.DataFrame(exprs.index).to_csv(f\"{processedDataPath}expression/tissue_general_index.csv\")\n",
    "exprs = exprs**2\n",
    "exprs = exprs/exprs.sum()\n",
    "# Calculate tissue entropy for each gene\n",
    "entropy = pd.DataFrame(\n",
    "    exprs.apply(\n",
    "        scipy.stats.entropy,\n",
    "        axis=0,\n",
    "        base=2\n",
    "    ),\n",
    "    columns=[\"entropy\"]\n",
    ")\n",
    "entropy[\"entropy_score\"] = 1-entropy.entropy/np.log2(exprs.shape[0])\n",
    "entropy.to_csv(f\"../../analysis/entropy/cell_x_gene_atlas_tissue_general_entropy.csv\")"
   ]
  },
  {
   "cell_type": "markdown",
   "id": "786fdd80-3560-4615-9ad2-90a2c912e183",
   "metadata": {},
   "source": [
    "### Cell type"
   ]
  },
  {
   "cell_type": "code",
   "execution_count": null,
   "id": "8a427999-cc1f-45b2-bfc7-aff2a0f14e25",
   "metadata": {},
   "outputs": [],
   "source": [
    "exprs = np.load(f\"{processedDataPath}expression/cell_x_gene_atlas_expression.npy\")\n",
    "genes = pd.read_csv(f\"{processedDataPath}expression/keep_genes.csv\")[\"feature_name\"]\n",
    "exprs = pd.DataFrame(exprs, columns=genes)\n",
    "metadata = pd.read_csv(f\"{processedDataPath}data/cell_x_gene_atlas_metadata.csv\")"
   ]
  },
  {
   "cell_type": "code",
   "execution_count": null,
   "id": "9bdf57ec-0596-49fd-9c9e-043658422926",
   "metadata": {},
   "outputs": [],
   "source": [
    "exprs[\"cell_type\"] = metadata.cell_type\n",
    "exprs = exprs.groupby(\"cell_type\").mean()\n",
    "np.save(f\"{processedDataPath}expression/cell_x_gene_atlas_cell_type_expression.npy\", exprs)\n",
    "pd.DataFrame(exprs.index).to_csv(f\"{processedDataPath}expression/cell_type_index.csv\")\n",
    "exprs = exprs**2\n",
    "exprs = exprs/exprs.sum()\n",
    "# Calculate tissue entropy for each gene\n",
    "entropy = pd.DataFrame(\n",
    "    exprs.apply(\n",
    "        scipy.stats.entropy,\n",
    "        axis=0,\n",
    "        base=2\n",
    "    ),\n",
    "    columns=[\"entropy\"]\n",
    ")\n",
    "entropy[\"entropy_score\"] = 1-entropy.entropy/np.log2(exprs.shape[0])\n",
    "entropy.to_csv(f\"../../analysis/entropy/cell_x_gene_atlas_cell_type_entropy.csv\")"
   ]
  }
 ],
 "metadata": {
  "kernelspec": {
   "display_name": "sc-genomics",
   "language": "python",
   "name": "sc-genomics"
  },
  "language_info": {
   "codemirror_mode": {
    "name": "ipython",
    "version": 3
   },
   "file_extension": ".py",
   "mimetype": "text/x-python",
   "name": "python",
   "nbconvert_exporter": "python",
   "pygments_lexer": "ipython3",
   "version": "3.10.12"
  }
 },
 "nbformat": 4,
 "nbformat_minor": 5
}
